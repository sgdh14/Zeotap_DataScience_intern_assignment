{
 "cells": [
  {
   "cell_type": "markdown",
   "metadata": {},
   "source": [
    "Importing Libraries"
   ]
  },
  {
   "cell_type": "code",
   "execution_count": 3,
   "metadata": {},
   "outputs": [],
   "source": [
    "import pandas as pd\n",
    "from sklearn.metrics.pairwise import cosine_similarity"
   ]
  },
  {
   "cell_type": "code",
   "execution_count": 4,
   "metadata": {},
   "outputs": [],
   "source": [
    "customers = pd.read_csv('Customers.csv')\n",
    "transactions = pd.read_csv('Transactions.csv')"
   ]
  },
  {
   "cell_type": "markdown",
   "metadata": {},
   "source": [
    "Data Preprocessing"
   ]
  },
  {
   "cell_type": "code",
   "execution_count": 5,
   "metadata": {},
   "outputs": [],
   "source": [
    "# Group transactions to calculate total, average spending and transaction count per customer\n",
    "customer_aggregates = transactions.groupby('CustomerID')['TotalValue'].agg(\n",
    "    TotalSpending='sum', AvgSpending='mean', TransactionCount='count'\n",
    ").reset_index()\n",
    "\n",
    "# Merge aggregated features with customer data\n",
    "customer_features = customers.merge(customer_aggregates, on='CustomerID', how='left')\n",
    "\n",
    "# Handle missing data\n",
    "customer_features.fillna(0, inplace=True)\n",
    "\n",
    "# Data Preprocessing: Drop non-numeric columns and ensure numeric data\n",
    "feature_matrix = customer_features.set_index('CustomerID').drop(['CustomerName', 'SignupDate'], axis=1)\n",
    "feature_matrix = feature_matrix.apply(pd.to_numeric, errors='coerce').fillna(0)\n"
   ]
  },
  {
   "cell_type": "code",
   "execution_count": 6,
   "metadata": {},
   "outputs": [],
   "source": [
    "similarity_matrix = cosine_similarity(feature_matrix)\n",
    "similarity_df = pd.DataFrame(similarity_matrix, index=feature_matrix.index, columns=feature_matrix.index)"
   ]
  },
  {
   "cell_type": "code",
   "execution_count": 15,
   "metadata": {},
   "outputs": [],
   "source": [
    "# Lookalike Recommendations for Customers C0001 - C0010\n",
    "lookalike_recommendations = {}\n",
    "\n",
    "for customer_id in feature_matrix.index[:10]:\n",
    "    # Extract top 3 similarity scores for the customer, excluding the customer themselves\n",
    "    similar_customers = similarity_df[customer_id].nlargest(4).iloc[1:]\n",
    "    \n",
    "    # Store the top 3 recommendations in the dictionary\n",
    "    lookalike_recommendations[customer_id] = [(other_customer, score) \n",
    "                                              for other_customer, score in similar_customers.items()]\n"
   ]
  },
  {
   "cell_type": "code",
   "execution_count": 16,
   "metadata": {},
   "outputs": [],
   "source": [
    "# save as CSV\n",
    "lookalike_data = [\n",
    "    {'CustomerID': customer_id, 'LookalikeCustomerID': other_customer, 'SimilarityScore': score}\n",
    "    for customer_id, recommendations in lookalike_recommendations.items()\n",
    "    for other_customer, score in recommendations\n",
    "]\n",
    "\n",
    "lookalike_df = pd.DataFrame(lookalike_data)\n",
    "lookalike_df.to_csv('Harish_Sudhakar_Lookalike.csv', index=False)\n"
   ]
  },
  {
   "cell_type": "code",
   "execution_count": 17,
   "metadata": {},
   "outputs": [
    {
     "name": "stdout",
     "output_type": "stream",
     "text": [
      "  CustomerID LookalikeCustomerID  SimilarityScore\n",
      "0      C0001               C0137              1.0\n",
      "1      C0001               C0152              1.0\n",
      "2      C0001               C0056              1.0\n",
      "3      C0002               C0029              1.0\n",
      "4      C0002               C0199              1.0\n"
     ]
    }
   ],
   "source": [
    "print(lookalike_df.head())"
   ]
  }
 ],
 "metadata": {
  "kernelspec": {
   "display_name": "Python 3",
   "language": "python",
   "name": "python3"
  },
  "language_info": {
   "codemirror_mode": {
    "name": "ipython",
    "version": 3
   },
   "file_extension": ".py",
   "mimetype": "text/x-python",
   "name": "python",
   "nbconvert_exporter": "python",
   "pygments_lexer": "ipython3",
   "version": "3.11.9"
  },
  "orig_nbformat": 4
 },
 "nbformat": 4,
 "nbformat_minor": 2
}
